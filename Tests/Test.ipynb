{
 "cells": [
  {
   "cell_type": "code",
   "execution_count": 5,
   "id": "631c054d",
   "metadata": {},
   "outputs": [
    {
     "name": "stdout",
     "output_type": "stream",
     "text": [
      "env: GOOGLE_APPLICATION_CREDENTIALS=../gcloud_account_key.json\n"
     ]
    }
   ],
   "source": [
    "%env GOOGLE_APPLICATION_CREDENTIALS=../gcloud_account_key.json"
   ]
  },
  {
   "cell_type": "code",
   "execution_count": 28,
   "id": "2ed2e210",
   "metadata": {},
   "outputs": [],
   "source": [
    "from google.cloud import vision\n",
    "import json\n",
    "import io"
   ]
  },
  {
   "cell_type": "code",
   "execution_count": 22,
   "id": "6a4cbef3",
   "metadata": {},
   "outputs": [],
   "source": [
    "client = vision.ImageAnnotatorClient()\n",
    "\n",
    "with io.open('test_subclass.jpg', 'rb') as image_file:\n",
    "    content = image_file.read()\n",
    "\n",
    "image = vision.Image(content=content)\n",
    "response = client.document_text_detection(image=image)"
   ]
  },
  {
   "cell_type": "code",
   "execution_count": 29,
   "id": "ab4890ee",
   "metadata": {},
   "outputs": [
    {
     "name": "stdout",
     "output_type": "stream",
     "text": [
      "class Test {\n",
      "Test (int a, int b) {\n",
      "this. a = a;\n",
      "this.b = b; 3\n",
      "void swap() {\n",
      "this. a = a + bi\n",
      "this. b = a-b;\n",
      "this. a = a-b; } }3\n",
      "33\n",
      "Test\n",
      "by new\n",
      "Test (4, 7);\n",
      "System.out.println(\"a: \" + p.a +\", b: \" + p.b);\n",
      "p =\n",
      "p.swap();\n",
      "System.out.println (\"a: \" +pa+\", b: p.b);\n",
      "11\n",
      "+\n"
     ]
    }
   ],
   "source": [
    "response_json = vision.AnnotateImageResponse.to_json(response)\n",
    "response = json.loads(response_json)\n",
    "print(response['fullTextAnnotation']['text'])"
   ]
  }
 ],
 "metadata": {
  "kernelspec": {
   "display_name": "Python 3 (ipykernel)",
   "language": "python",
   "name": "python3"
  },
  "language_info": {
   "codemirror_mode": {
    "name": "ipython",
    "version": 3
   },
   "file_extension": ".py",
   "mimetype": "text/x-python",
   "name": "python",
   "nbconvert_exporter": "python",
   "pygments_lexer": "ipython3",
   "version": "3.8.10"
  }
 },
 "nbformat": 4,
 "nbformat_minor": 5
}
